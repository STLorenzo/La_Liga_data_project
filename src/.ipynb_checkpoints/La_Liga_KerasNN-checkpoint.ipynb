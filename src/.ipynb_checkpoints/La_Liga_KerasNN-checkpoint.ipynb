{
 "cells": [
  {
   "cell_type": "markdown",
   "metadata": {},
   "source": [
    "**Module that creates, trains and predicts La Liga matches**"
   ]
  },
  {
   "cell_type": "markdown",
   "metadata": {},
   "source": [
    "## Libraries"
   ]
  },
  {
   "cell_type": "code",
   "execution_count": 1,
   "metadata": {},
   "outputs": [
    {
     "name": "stderr",
     "output_type": "stream",
     "text": [
      "Using TensorFlow backend.\n"
     ]
    }
   ],
   "source": [
    "from pathlib import Path # Path manipulation\n",
    "import os # OS library\n",
    "import numpy as np # Vector - Matrix Library\n",
    "\n",
    "import pandas as pd # Data import, manipulation and processing \n",
    "from datetime import datetime\n",
    "\n",
    "from keras.models import Sequential\n",
    "from keras.layers import Dense\n",
    "\n",
    "from data_functions import * # Private library of functions related to La Liga Dataset\n",
    "from data_preprocessing import * # Private library of functions related to La Liga Dataset\n",
    "\n",
    "from sklearn.svm import SVC\n",
    "from sklearn.multiclass import OneVsRestClassifier\n",
    "\n",
    "from sklearn.metrics import classification_report, confusion_matrix"
   ]
  },
  {
   "cell_type": "markdown",
   "metadata": {},
   "source": [
    "## Variables"
   ]
  },
  {
   "cell_type": "code",
   "execution_count": 2,
   "metadata": {},
   "outputs": [],
   "source": [
    "data_folder = Path(\"../data\")\n",
    "train_filename = '05-17_train.csv'\n",
    "test_filename = '17-19_test.csv'\n",
    "train_file_path = data_folder / train_filename\n",
    "test_file_path = data_folder / test_filename"
   ]
  },
  {
   "cell_type": "code",
   "execution_count": 3,
   "metadata": {},
   "outputs": [],
   "source": [
    "jornada_flag = True\n",
    "jornada_val = 6\n",
    "\n",
    "normalize_flag = True\n",
    "\n",
    "one_hot_flag = True"
   ]
  },
  {
   "cell_type": "code",
   "execution_count": 4,
   "metadata": {},
   "outputs": [],
   "source": [
    "hl_shape = 16\n",
    "hl_activation = 'relu'\n",
    "\n",
    "ol_shape = 3\n",
    "ol_activation = 'softmax'"
   ]
  },
  {
   "cell_type": "markdown",
   "metadata": {},
   "source": [
    "## Functions"
   ]
  },
  {
   "cell_type": "code",
   "execution_count": 5,
   "metadata": {},
   "outputs": [],
   "source": [
    "def create_model(n_features):\n",
    "    #create model\n",
    "    model = Sequential()\n",
    "\n",
    "    #add model layers\n",
    "    model.add(Dense(hl_shape, activation=hl_activation, input_dim=n_features))\n",
    "    #model.add(Dense(10, activation='relu'))\n",
    "    model.add(Dense(ol_shape, activation=ol_activation))\n",
    "    model.compile(loss='categorical_crossentropy', optimizer='adam', metrics=['accuracy'])\n",
    "    \n",
    "    return model"
   ]
  },
  {
   "cell_type": "code",
   "execution_count": 6,
   "metadata": {},
   "outputs": [],
   "source": [
    "def train_model(model):\n",
    "    pass"
   ]
  },
  {
   "cell_type": "code",
   "execution_count": 7,
   "metadata": {},
   "outputs": [],
   "source": [
    "def test_model(model):\n",
    "    pass"
   ]
  },
  {
   "cell_type": "code",
   "execution_count": 8,
   "metadata": {},
   "outputs": [],
   "source": [
    "def create_svm():\n",
    "    return OneVsRestClassifier(SVC(kernel='linear'))"
   ]
  },
  {
   "cell_type": "code",
   "execution_count": null,
   "metadata": {},
   "outputs": [],
   "source": []
  },
  {
   "cell_type": "code",
   "execution_count": null,
   "metadata": {},
   "outputs": [],
   "source": []
  },
  {
   "cell_type": "markdown",
   "metadata": {},
   "source": [
    "## Execution"
   ]
  },
  {
   "cell_type": "code",
   "execution_count": 9,
   "metadata": {},
   "outputs": [],
   "source": [
    "train = pd.read_csv(data_folder / train_filename)\n",
    "test = pd.read_csv(data_folder / test_filename)"
   ]
  },
  {
   "cell_type": "code",
   "execution_count": 45,
   "metadata": {},
   "outputs": [
    {
     "name": "stdout",
     "output_type": "stream",
     "text": [
      "      0  1  2\n",
      "50    0  1  0\n",
      "51    1  0  0\n",
      "52    0  1  0\n",
      "53    0  1  0\n",
      "54    1  0  0\n",
      "...  .. .. ..\n",
      "4555  0  0  1\n",
      "4556  0  1  0\n",
      "4557  1  0  0\n",
      "4558  1  0  0\n",
      "4559  0  0  1\n",
      "\n",
      "[3961 rows x 3 columns]\n"
     ]
    }
   ],
   "source": [
    "columns = get_readability_column_labels()\n",
    "columns.append('result')\n",
    "\n",
    "\n",
    "mapping = {'H' : 0, 'D' : 1 , 'A' : 2}\n",
    "# Drop the rows corresponding to the first 5 jornada and drop the readability columns\n",
    "if jornada_flag:\n",
    "    train = train.drop(train[train['jornada'] < jornada_val].index, axis=0)\n",
    "    test = test.drop(train[train['jornada'] < jornada_val].index, axis=0)\n",
    "\n",
    "if normalize_flag: \n",
    "    train = normalize_columns(train)\n",
    "    test = normalize_columns(test)\n",
    "    \n",
    "X_train = train.drop(columns = columns)\n",
    "X_test = test.drop(columns = columns)\n",
    "y_train = train['result']\n",
    "y_test = test['result']\n",
    "\n",
    "y_train = y_train.replace(mapping)\n",
    "y_test = y_test.replace(mapping)\n",
    "\n",
    "if one_hot_flag:\n",
    "    y_train = pd.get_dummies(y_train)\n",
    "\n",
    "print(y_train)"
   ]
  },
  {
   "cell_type": "code",
   "execution_count": 46,
   "metadata": {},
   "outputs": [],
   "source": [
    "epochs = 10\n",
    "batch_size = 4\n",
    "verbose = 1"
   ]
  },
  {
   "cell_type": "code",
   "execution_count": 47,
   "metadata": {},
   "outputs": [
    {
     "name": "stdout",
     "output_type": "stream",
     "text": [
      "Model: \"sequential_3\"\n",
      "_________________________________________________________________\n",
      "Layer (type)                 Output Shape              Param #   \n",
      "=================================================================\n",
      "dense_5 (Dense)              (None, 16)                592       \n",
      "_________________________________________________________________\n",
      "dense_6 (Dense)              (None, 3)                 51        \n",
      "=================================================================\n",
      "Total params: 643\n",
      "Trainable params: 643\n",
      "Non-trainable params: 0\n",
      "_________________________________________________________________\n"
     ]
    }
   ],
   "source": [
    "n_features = X_train.shape[1]\n",
    "model = create_model(n_features)\n",
    "model.summary()"
   ]
  },
  {
   "cell_type": "code",
   "execution_count": 48,
   "metadata": {},
   "outputs": [
    {
     "name": "stdout",
     "output_type": "stream",
     "text": [
      "Epoch 1/10\n",
      "3961/3961 [==============================] - 2s 566us/step - loss: 1.0106 - accuracy: 0.5125\n",
      "Epoch 2/10\n",
      "3961/3961 [==============================] - 2s 529us/step - loss: 0.9829 - accuracy: 0.5297\n",
      "Epoch 3/10\n",
      "3961/3961 [==============================] - 2s 540us/step - loss: 0.9799 - accuracy: 0.5352\n",
      "Epoch 4/10\n",
      "3961/3961 [==============================] - 2s 531us/step - loss: 0.9775 - accuracy: 0.5271\n",
      "Epoch 5/10\n",
      "3961/3961 [==============================] - 2s 555us/step - loss: 0.9749 - accuracy: 0.5327\n",
      "Epoch 6/10\n",
      "3961/3961 [==============================] - 2s 570us/step - loss: 0.9749 - accuracy: 0.5337\n",
      "Epoch 7/10\n",
      "3961/3961 [==============================] - 2s 565us/step - loss: 0.9741 - accuracy: 0.5309\n",
      "Epoch 8/10\n",
      "3961/3961 [==============================] - 2s 500us/step - loss: 0.9725 - accuracy: 0.5337\n",
      "Epoch 9/10\n",
      "3961/3961 [==============================] - 2s 478us/step - loss: 0.9709 - accuracy: 0.5340\n",
      "Epoch 10/10\n",
      "3961/3961 [==============================] - 2s 508us/step - loss: 0.9718 - accuracy: 0.5317\n"
     ]
    },
    {
     "data": {
      "text/plain": [
       "<keras.callbacks.callbacks.History at 0x7fd689a7a310>"
      ]
     },
     "execution_count": 48,
     "metadata": {},
     "output_type": "execute_result"
    }
   ],
   "source": [
    "model.fit(X_train, y_train,\n",
    "         epochs=epochs,\n",
    "         batch_size=batch_size,\n",
    "         verbose=verbose)"
   ]
  },
  {
   "cell_type": "code",
   "execution_count": 49,
   "metadata": {},
   "outputs": [
    {
     "data": {
      "text/plain": [
       "array([[0.3617315 , 0.32693306, 0.3113354 ],\n",
       "       [0.3617315 , 0.32693306, 0.3113354 ],\n",
       "       [0.3617315 , 0.32693306, 0.3113354 ],\n",
       "       ...,\n",
       "       [0.4196522 , 0.28643987, 0.29390797],\n",
       "       [0.41554376, 0.2654096 , 0.3190467 ],\n",
       "       [0.46402198, 0.2110464 , 0.32493162]], dtype=float32)"
      ]
     },
     "execution_count": 49,
     "metadata": {},
     "output_type": "execute_result"
    }
   ],
   "source": [
    "Y_pred = model.predict(X_test)\n",
    "Y_pred"
   ]
  },
  {
   "cell_type": "code",
   "execution_count": 50,
   "metadata": {},
   "outputs": [
    {
     "data": {
      "text/plain": [
       "array([0, 0, 0, ..., 0, 0, 0])"
      ]
     },
     "execution_count": 50,
     "metadata": {},
     "output_type": "execute_result"
    }
   ],
   "source": [
    "\n",
    "y_pred = np.argmax(Y_pred, axis=1)\n",
    "y_pred"
   ]
  },
  {
   "cell_type": "code",
   "execution_count": 51,
   "metadata": {},
   "outputs": [
    {
     "name": "stdout",
     "output_type": "stream",
     "text": [
      "[[642   3 122]\n",
      " [374   3  94]\n",
      " [306   4 115]]\n"
     ]
    }
   ],
   "source": [
    "print(confusion_matrix(y_test, y_pred))"
   ]
  },
  {
   "cell_type": "code",
   "execution_count": 52,
   "metadata": {},
   "outputs": [
    {
     "name": "stdout",
     "output_type": "stream",
     "text": [
      "              precision    recall  f1-score   support\n",
      "\n",
      "           0       0.49      0.84      0.61       767\n",
      "           1       0.30      0.01      0.01       471\n",
      "           2       0.35      0.27      0.30       425\n",
      "\n",
      "    accuracy                           0.46      1663\n",
      "   macro avg       0.38      0.37      0.31      1663\n",
      "weighted avg       0.40      0.46      0.36      1663\n",
      "\n"
     ]
    }
   ],
   "source": [
    "report = classification_report(y_test, y_pred)\n",
    "print(report)"
   ]
  },
  {
   "cell_type": "code",
   "execution_count": null,
   "metadata": {},
   "outputs": [],
   "source": []
  }
 ],
 "metadata": {
  "kernelspec": {
   "display_name": "Python 3",
   "language": "python",
   "name": "python3"
  },
  "language_info": {
   "codemirror_mode": {
    "name": "ipython",
    "version": 3
   },
   "file_extension": ".py",
   "mimetype": "text/x-python",
   "name": "python",
   "nbconvert_exporter": "python",
   "pygments_lexer": "ipython3",
   "version": "3.7.6"
  }
 },
 "nbformat": 4,
 "nbformat_minor": 4
}
